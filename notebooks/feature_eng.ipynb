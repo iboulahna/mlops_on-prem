{
 "cells": [
  {
   "cell_type": "markdown",
   "metadata": {},
   "source": [
    "# Extract Churn Data \n"
   ]
  },
  {
   "cell_type": "code",
   "execution_count": 1,
   "metadata": {},
   "outputs": [
    {
     "name": "stderr",
     "output_type": "stream",
     "text": [
      "OSError while attempting to symlink the latest log directory\n"
     ]
    }
   ],
   "source": [
    "# Data Handling\n",
    "import pandas as pd\n",
    "import numpy as np\n",
    "\n",
    "# Data Imputing\n",
    "from sklearn.impute import KNNImputer\n",
    "\n",
    "# Modelling\n",
    "from sklearn.model_selection import train_test_split\n",
    "from sklearn.linear_model import LogisticRegression\n",
    "from sklearn.tree import DecisionTreeClassifier\n",
    "from sklearn.ensemble import RandomForestClassifier\n",
    "from sklearn.metrics import classification_report, confusion_matrix\n",
    "\n",
    "import warnings\n",
    "warnings.filterwarnings(\"ignore\")\n",
    "\n",
    "import requests\n",
    "from io import StringIO\n",
    "import re\n",
    "\n",
    "# Import des librairies nécessaires\n",
    "import requests\n",
    "import pandas as pd\n",
    "from sklearn.model_selection import train_test_split\n",
    "from sklearn.linear_model import LogisticRegression\n",
    "import joblib\n",
    "from airflow import DAG\n",
    "from airflow.operators.python_operator import PythonOperator\n",
    "from datetime import datetime\n"
   ]
  },
  {
   "cell_type": "code",
   "execution_count": 2,
   "metadata": {},
   "outputs": [],
   "source": [
    "# #Dataset under apache license: https://github.com/IBM/telco-customer-churn-on-icp4d/blob/master/LICENSE\n",
    "# csv = requests.get(\"https://raw.githubusercontent.com/IBM/telco-customer-churn-on-icp4d/master/data/Telco-Customer-Churn.csv\").text\n",
    "# df = pd.read_csv(StringIO(csv), sep=\",\")\n",
    "# raw_data_path = \"../data\"\n",
    "# df.to_csv('../data/raw_data.csv', index=False)\n",
    "\n",
    "# Bronze table name for advanced\n",
    "# bronze_table_name = \"advanced_churn_bronze_customers\"\n"
   ]
  },
  {
   "cell_type": "code",
   "execution_count": 36,
   "metadata": {},
   "outputs": [],
   "source": []
  },
  {
   "cell_type": "code",
   "execution_count": null,
   "metadata": {},
   "outputs": [
    {
     "name": "stdout",
     "output_type": "stream",
     "text": [
      "Données extraites \n",
      "Données sauvegardées\n",
      "Données préparées et sauvegardées\n"
     ]
    }
   ],
   "source": [
    "\n",
    "\n",
    "\n",
    "\n",
    "def save_data(df):\n",
    "    df.to_csv('../data/raw_data.csv', index=False)\n",
    "    print(\"Données sauvegardées\")\n",
    "\n",
    "# 1. Fonction pour extraire les données et les sauvegarder\n",
    "def extract_data():\n",
    "    url = \"https://raw.githubusercontent.com/IBM/telco-customer-churn-on-icp4d/master/data/Telco-Customer-Churn.csv\"  # Remplacer par ton URL\n",
    "    response = requests.get(url)\n",
    "    csv = response.text  # Ou response.text si c'est du texte brut\n",
    "    df = pd.read_csv(StringIO(csv), sep=\",\")\n",
    "    # \n",
    "    print(\"Données extraites \")\n",
    "    return df \n",
    "\n",
    "def extract_save():\n",
    "    df = extract_data()\n",
    "    save_data(df) \n",
    "\n",
    "\n",
    "def cleanup_column(pdf):\n",
    "\n",
    "    # Clean up column names\n",
    "    pdf.columns = [re.sub(r'(?<!^)(?=[A-Z])', '_', name).lower().replace(\"__\", \"_\") for name in pdf.columns]\n",
    "    pdf.columns = [re.sub(r'[\\(\\)]', '', name).lower() for name in pdf.columns]\n",
    "    pdf.columns = [re.sub(r'[ -]', '_', name).lower() for name in pdf.columns]\n",
    "    \n",
    "    return pdf.rename(columns = {'streaming_t_v': 'streaming_tv', 'customer_i_d': 'customer_id'})\n",
    "\n",
    "def prepare_data(df):\n",
    "    df = cleanup_column(df)\n",
    "\n",
    "    # Transformer la variable 'churn' (Yes/No) en 0/1\n",
    "    df['churn'] = pd.to_numeric(df['churn'].replace({'Yes': 1, 'No': 0}), errors='coerce')\n",
    "\n",
    "    # Garder uniquement les colonnes numériques\n",
    "    df_numeric =  df.select_dtypes(include=['number'])\n",
    "\n",
    "    # Supprimer les valeurs manquantes (NA) dans les colonnes numériques\n",
    "    df_clean = df_numeric.dropna() \n",
    "    # ... \n",
    "    return df_clean \n",
    "\n",
    "def prepare_save():\n",
    "    df = pd.read_csv('../data/raw_data.csv')\n",
    "    df_clean = prepare_data(df)\n",
    "    df_clean.to_csv('../data/cleaned_data.csv', index=False) \n",
    "    print(\"Données préparées et sauvegardées\")\n",
    "\n",
    "# 3. Fonction pour entraîner un modèle simple\n",
    "def train_model():\n",
    "    df = pd.read_csv('../data/cleaned_data.csv')\n",
    "    X = df.drop('churn', axis=1)  # Remplacer 'target' par le nom de la variable cible\n",
    "    y = df['churn']\n",
    "    \n",
    "    X_train, X_test, y_train, y_test = train_test_split(X, y, test_size=0.2, random_state=42)\n",
    "    \n",
    "    model = LogisticRegression()\n",
    "    model.fit(X_train, y_train)\n",
    "    \n",
    "    # Sauvegarder le modèle\n",
    "    joblib.dump(model, '../models/logistic_model.pkl')\n",
    "    print(\"Modèle entraîné et sauvegardé\")\n",
    "    \n",
    "extract_save()\n",
    "prepare_save()\n",
    "\n",
    "\n",
    "\n",
    "train_model()\n"
   ]
  },
  {
   "cell_type": "code",
   "execution_count": null,
   "metadata": {},
   "outputs": [
    {
     "data": {
      "text/plain": [
       "0       0\n",
       "1       0\n",
       "2       1\n",
       "3       0\n",
       "4       1\n",
       "       ..\n",
       "7038    0\n",
       "7039    0\n",
       "7040    0\n",
       "7041    1\n",
       "7042    0\n",
       "Name: churn, Length: 7043, dtype: int64"
      ]
     },
     "execution_count": 10,
     "metadata": {},
     "output_type": "execute_result"
    }
   ],
   "source": [
    "# df = pd.read_csv('../data/cleaned_data.csv')\n",
    "# df[\"churn\"]"
   ]
  },
  {
   "cell_type": "code",
   "execution_count": null,
   "metadata": {},
   "outputs": [
    {
     "name": "stdout",
     "output_type": "stream",
     "text": [
      "Modèle entraîné et sauvegardé\n"
     ]
    }
   ],
   "source": []
  },
  {
   "cell_type": "code",
   "execution_count": null,
   "metadata": {},
   "outputs": [],
   "source": []
  }
 ],
 "metadata": {
  "kernelspec": {
   "display_name": "venv",
   "language": "python",
   "name": "python3"
  },
  "language_info": {
   "codemirror_mode": {
    "name": "ipython",
    "version": 3
   },
   "file_extension": ".py",
   "mimetype": "text/x-python",
   "name": "python",
   "nbconvert_exporter": "python",
   "pygments_lexer": "ipython3",
   "version": "3.11.7"
  }
 },
 "nbformat": 4,
 "nbformat_minor": 2
}
